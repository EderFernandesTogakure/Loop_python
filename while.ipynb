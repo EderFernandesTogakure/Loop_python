{
 "cells": [
  {
   "cell_type": "code",
   "execution_count": 3,
   "metadata": {},
   "outputs": [
    {
     "name": "stdout",
     "output_type": "stream",
     "text": [
      "O valor de Nr é 0\n",
      "O valor de Nr é 1\n",
      "O valor de Nr é 2\n",
      "O valor de Nr é 3\n",
      "O valor de Nr é 4\n",
      "O valor de Nr é 5\n",
      "O valor de Nr é 6\n",
      "O valor de Nr é 7\n",
      "O valor de Nr é 8\n",
      "O valor de Nr é 9\n",
      "O valor de Nr é 10\n"
     ]
    }
   ],
   "source": [
    "Nr = 0 \n",
    "while Nr <= 10:\n",
    "    print(f'O valor de Nr é {Nr}')\n",
    "    Nr = Nr + 1"
   ]
  },
  {
   "cell_type": "code",
   "execution_count": 4,
   "metadata": {},
   "outputs": [
    {
     "name": "stdout",
     "output_type": "stream",
     "text": [
      "O valor de Nr é 0\n",
      "O valor de Nr é 1\n",
      "O valor de Nr é 2\n",
      "O valor de Nr é 3\n",
      "O valor de Nr é 4\n",
      "O valor de Nr é 5\n",
      "O valor de Nr é 6\n",
      "O valor de Nr é 7\n",
      "O valor de Nr é 8\n",
      "O valor de Nr é 9\n",
      "O valor de Nr é 10\n",
      "O loop while foi encerrado com sucesso\n"
     ]
    }
   ],
   "source": [
    "Nr = 0 \n",
    "while Nr <= 10:\n",
    "    print(f'O valor de Nr é {Nr}')\n",
    "    Nr = Nr + 1\n",
    "else:\n",
    "    print(\"O loop while foi encerrado com sucesso\")"
   ]
  },
  {
   "cell_type": "code",
   "execution_count": 5,
   "metadata": {},
   "outputs": [
    {
     "name": "stdout",
     "output_type": "stream",
     "text": [
      "Sistema de notas do Aluno \n",
      "\n",
      "Aluno reprovado, sua media é 4.0 \n",
      "\n",
      "Aluno em exame, sua media é 5.0 \n",
      "\n",
      "Aluno em exame, sua media é 6.0 \n",
      "\n",
      "Aluno aprovado, sua media é 7.0 \n",
      "\n",
      "Aluno aprovado, sua media é 8.0 \n",
      "\n",
      "Aluno aprovado, sua media é 9.0 \n",
      "\n",
      "Aluno aprovado, sua media é 10.0 \n",
      "\n",
      "Loop finalizado com sucesso!\n",
      "\n"
     ]
    }
   ],
   "source": [
    "print('Sistema de notas do Aluno \\n')\n",
    "nota1 = float(input('Digite a primeira nota do Aluno'))\n",
    "nota2 = float(input('Digite a segunda nota do Aluno'))\n",
    "media = (nota1 + nota2)/2\n",
    "while media <= 10:\n",
    "    if media >= 5:\n",
    "        if media >= 7:\n",
    "            print(f'Aluno aprovado, sua media é {media} \\n')\n",
    "        else:\n",
    "            print(f'Aluno em exame, sua media é {media} \\n')\n",
    "    else:\n",
    "        print(f'Aluno reprovado, sua media é {media} \\n')\n",
    "    media = media + 1\n",
    "else:\n",
    "    print(f'Loop finalizado com sucesso!\\n')\n",
    "        "
   ]
  },
  {
   "cell_type": "code",
   "execution_count": 9,
   "metadata": {},
   "outputs": [
    {
     "name": "stdout",
     "output_type": "stream",
     "text": [
      "O indice 0 (zero) tem o  Pedro\n",
      "O indice 2 tem o  Leticia\n",
      "O indice 1 tem o  João\n"
     ]
    }
   ],
   "source": [
    "nomes = ['Pedro','João','Leticia']\n",
    "print(f'O indice 0 (zero) tem o  {nomes[0]}')\n",
    "print(f'O indice 2 tem o  {nomes[2]}')\n",
    "print(f'O indice 1 tem o  {nomes[1]}')"
   ]
  },
  {
   "cell_type": "code",
   "execution_count": 11,
   "metadata": {},
   "outputs": [
    {
     "name": "stdout",
     "output_type": "stream",
     "text": [
      "Os nomes no array são Pedro\n",
      "Os nomes no array são João\n",
      "Os nomes no array são Leticia\n",
      "Loop finalizado com sucesso!\n",
      "\n"
     ]
    }
   ],
   "source": [
    "for i in nomes:\n",
    "    print(f'Os nomes no array são {i}')\n",
    "else:\n",
    "    print(f'Loop finalizado com sucesso!\\n')"
   ]
  },
  {
   "cell_type": "code",
   "execution_count": 12,
   "metadata": {},
   "outputs": [
    {
     "name": "stdout",
     "output_type": "stream",
     "text": [
      "[4, 6, 8]\n"
     ]
    }
   ],
   "source": [
    "vetor = [0, 0, 0]\n",
    "for i in range(0,3):\n",
    "    vetor[i] = int(input(f'Digite um valor:[{i}]'))\n",
    "print(vetor)"
   ]
  },
  {
   "cell_type": "code",
   "execution_count": 13,
   "metadata": {},
   "outputs": [
    {
     "name": "stdout",
     "output_type": "stream",
     "text": [
      "[[3, 4, 5], [2, 7, 8], [9, 10, 11]]\n"
     ]
    }
   ],
   "source": [
    "matriz = [[0,0,0],[0,0,0],[0,0,0]]\n",
    "for i in range(0,3):\n",
    "    for j in range(0,3):\n",
    "        matriz[i][j] = int(input(f'Digite um valor:[{i}][{j}]'))\n",
    "print(matriz)"
   ]
  },
  {
   "cell_type": "markdown",
   "metadata": {},
   "source": []
  }
 ],
 "metadata": {
  "kernelspec": {
   "display_name": "Python 3",
   "language": "python",
   "name": "python3"
  },
  "language_info": {
   "codemirror_mode": {
    "name": "ipython",
    "version": 3
   },
   "file_extension": ".py",
   "mimetype": "text/x-python",
   "name": "python",
   "nbconvert_exporter": "python",
   "pygments_lexer": "ipython3",
   "version": "3.11.5"
  }
 },
 "nbformat": 4,
 "nbformat_minor": 2
}
